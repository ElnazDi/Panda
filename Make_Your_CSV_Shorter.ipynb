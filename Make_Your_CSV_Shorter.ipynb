{
  "nbformat": 4,
  "nbformat_minor": 0,
  "metadata": {
    "colab": {
      "name": "Make_Your_CSV_Shorter.ipynb",
      "provenance": [],
      "authorship_tag": "ABX9TyNWHlPhYaZHVMu4dnpuT6ZK",
      "include_colab_link": true
    },
    "kernelspec": {
      "name": "python3",
      "display_name": "Python 3"
    },
    "language_info": {
      "name": "python"
    }
  },
  "cells": [
    {
      "cell_type": "markdown",
      "metadata": {
        "id": "view-in-github",
        "colab_type": "text"
      },
      "source": [
        "<a href=\"https://colab.research.google.com/github/ElnazDi/Pandas/blob/main/Make_Your_CSV_Shorter.ipynb\" target=\"_parent\"><img src=\"https://colab.research.google.com/assets/colab-badge.svg\" alt=\"Open In Colab\"/></a>"
      ]
    },
    {
      "cell_type": "code",
      "metadata": {
        "id": "RlOleEqh9IWR"
      },
      "source": [
        "from google.colab import files\n",
        "import pandas as pd"
      ],
      "execution_count": 8,
      "outputs": []
    },
    {
      "cell_type": "code",
      "metadata": {
        "id": "D18tHcRq9bC9"
      },
      "source": [
        "data = pd.read_csv('your_file.csv')"
      ],
      "execution_count": 2,
      "outputs": []
    },
    {
      "cell_type": "code",
      "metadata": {
        "id": "SP7BW7qn9k9d"
      },
      "source": [
        "data"
      ],
      "execution_count": null,
      "outputs": []
    },
    {
      "cell_type": "code",
      "metadata": {
        "id": "4OVdDrX09o3x"
      },
      "source": [
        "new = data.iloc[0:20000,]"
      ],
      "execution_count": 4,
      "outputs": []
    },
    {
      "cell_type": "code",
      "metadata": {
        "id": "g6CLdy1Z-Fro"
      },
      "source": [
        "new.shape"
      ],
      "execution_count": null,
      "outputs": []
    },
    {
      "cell_type": "code",
      "metadata": {
        "id": "x64bMfaZ-Jg5"
      },
      "source": [
        "short = new.to_csv('your_file.csv')\n",
        "files.download('your_file.csv')\n"
      ],
      "execution_count": 7,
      "outputs": []
    }
  ]
}